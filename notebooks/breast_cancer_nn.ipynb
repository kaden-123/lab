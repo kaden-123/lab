{
 "cells": [
  {
   "cell_type": "code",
   "execution_count": 2,
   "id": "07d6dfed-b537-4f33-a69d-d3969124b2c7",
   "metadata": {},
   "outputs": [],
   "source": [
    "import numpy as py\n",
    "import pandas as pd\n",
    "import torch\n",
    "import matplotlib"
   ]
  },
  {
   "cell_type": "code",
   "execution_count": 11,
   "id": "7cd7cb94-2fa2-41ad-bbe1-718ec306a2fc",
   "metadata": {},
   "outputs": [],
   "source": [
    "data = pd.read_csv(\"/home/kadenw/Workspace/lab/data/wisnconsin_breast_cancer/wdbc.data\")"
   ]
  },
  {
   "cell_type": "code",
   "execution_count": 27,
   "id": "8e0b6b33-851f-4b4a-be1a-0d4968ecadf2",
   "metadata": {},
   "outputs": [
    {
     "data": {
      "text/plain": [
       "<torch._C.Generator at 0x7fbceb9abf30>"
      ]
     },
     "execution_count": 27,
     "metadata": {},
     "output_type": "execute_result"
    }
   ],
   "source": [
    "torch.manual_seed(6)"
   ]
  },
  {
   "cell_type": "code",
   "execution_count": 28,
   "id": "e99a159c-bd98-4e7f-afef-0eb5fa801412",
   "metadata": {},
   "outputs": [],
   "source": [
    "practice = torch.rand(size = (1, 1, 1, 10))"
   ]
  },
  {
   "cell_type": "code",
   "execution_count": 30,
   "id": "ed866b73-2fc2-4166-a6e6-0a791fb868fd",
   "metadata": {},
   "outputs": [
    {
     "data": {
      "text/plain": [
       "tensor([0.4581, 0.4829, 0.3125, 0.6150, 0.2139, 0.4118, 0.6938, 0.9693, 0.6178,\n",
       "        0.3304])"
      ]
     },
     "execution_count": 30,
     "metadata": {},
     "output_type": "execute_result"
    }
   ],
   "source": [
    "practice.squeeze()"
   ]
  },
  {
   "cell_type": "code",
   "execution_count": null,
   "id": "d4fe648b-6af6-428d-bd80-61521bd99ed6",
   "metadata": {},
   "outputs": [],
   "source": []
  },
  {
   "cell_type": "code",
   "execution_count": null,
   "id": "2adbf96f-901b-4edc-bb6e-5ef24ef9ba7b",
   "metadata": {},
   "outputs": [],
   "source": []
  }
 ],
 "metadata": {
  "kernelspec": {
   "display_name": "Python [conda env:lab-lab]",
   "language": "python",
   "name": "conda-env-lab-lab-py"
  },
  "language_info": {
   "codemirror_mode": {
    "name": "ipython",
    "version": 3
   },
   "file_extension": ".py",
   "mimetype": "text/x-python",
   "name": "python",
   "nbconvert_exporter": "python",
   "pygments_lexer": "ipython3",
   "version": "3.11.9"
  }
 },
 "nbformat": 4,
 "nbformat_minor": 5
}
