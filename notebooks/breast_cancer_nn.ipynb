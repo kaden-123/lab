{
 "cells": [
  {
   "cell_type": "code",
   "execution_count": 165,
   "id": "f76ef2e7-b4ab-49c2-9b62-776c246f9302",
   "metadata": {
    "scrolled": true
   },
   "outputs": [],
   "source": [
    "import numpy as np\n",
    "import pandas as pd\n",
    "import torch\n",
    "from torch import nn\n",
    "import matplotlib.pyplot as plt\n",
    "from sklearn.model_selection import train_test_split\n",
    "from sklearn.metrics import accuracy_score, precision_score, recall_score, f1_score\n",
    "from pathlib import Path\n",
    "\n",
    "data = pd.read_csv(\"/home/kadenw/Workspace/lab/data/wisnconsin_breast_cancer/wdbc.data\") # loads data\n",
    "data.iloc[:, 1] = data.iloc[:, 1].map({'M' : 1, 'B' : 0}) # replaces malignant and benign to boolean values\n",
    "train_data, test_data = train_test_split(data, test_size=0.2, random_state=42) # split into training and testing data\n",
    "\n",
    "# loads data into pytorch tensor for training\n",
    "train_tensor_data = torch.from_numpy(train_data.iloc[:,2 : 32].values)\n",
    "train_tensor_data = train_tensor_data.float()\n",
    "train_tensor_results = torch.from_numpy(train_data.iloc[:, 1].values.astype(float))\n",
    "train_tensor_results = train_tensor_results.float()\n",
    "train_tensor_results = train_tensor_results.unsqueeze(dim = 1)\n",
    "\n",
    "test_tensor_data = torch.from_numpy(test_data.iloc[:,2 : 32].values)\n",
    "test_tensor_data = test_tensor_data.float()\n",
    "test_tensor_results = torch.from_numpy(test_data.iloc[:, 1].values.astype(float))\n",
    "test_tensor_results = test_tensor_results.float()\n",
    "test_tensor_results = test_tensor_results.unsqueeze(dim = 1)\n",
    "\n",
    "# neural network implementation\n",
    "class breast_cancer_nn(nn.Module):\n",
    "    def __init__(self):\n",
    "        super().__init__()\n",
    "        self.double()\n",
    "        self.fc1 = nn.Linear(in_features = 30,\n",
    "                          out_features = 10)\n",
    "        self.fc2 = nn.Linear(in_features = 10,\n",
    "                          out_features = 5)\n",
    "        self.output = nn.Linear(in_features = 5,\n",
    "                          out_features = 1)\n",
    "        self.relu = nn.ReLU()\n",
    "    def forward(self, x):\n",
    "        x = self.relu(self.fc1(x))\n",
    "        x = self.relu(self.fc2(x))\n",
    "        x = torch.sigmoid(self.output(x))\n",
    "        return x\n",
    "\n",
    "breast_cancer_nn = breast_cancer_nn()\n",
    "loss_bce = nn.BCELoss()  \n",
    "optimizer = torch.optim.Adam(breast_cancer_nn.parameters(), lr=0.001)"
   ]
  },
  {
   "cell_type": "code",
   "execution_count": 167,
   "id": "fade5921-e164-49c2-a798-7e5fc0c101a7",
   "metadata": {
    "scrolled": true
   },
   "outputs": [
    {
     "name": "stdout",
     "output_type": "stream",
     "text": [
      "Epoch: 0 | Train loss: 0.5983840823173523 | Test loss: 0.5602752566337585\n",
      "Test Accuracy: 0.5263\n",
      "Test Precision: 0.4565\n",
      "Test Recall: 0.9130\n",
      "Test F1 Score: 0.6087\n",
      "Epoch: 100 | Train loss: 0.33586227893829346 | Test loss: 0.31355613470077515\n",
      "Test Accuracy: 0.9123\n",
      "Test Precision: 0.9737\n",
      "Test Recall: 0.8043\n",
      "Test F1 Score: 0.8810\n",
      "Epoch: 200 | Train loss: 0.252197265625 | Test loss: 0.2512303292751312\n",
      "Test Accuracy: 0.9123\n",
      "Test Precision: 0.9500\n",
      "Test Recall: 0.8261\n",
      "Test F1 Score: 0.8837\n",
      "Epoch: 300 | Train loss: 0.2179548591375351 | Test loss: 0.22647219896316528\n",
      "Test Accuracy: 0.9123\n",
      "Test Precision: 0.9500\n",
      "Test Recall: 0.8261\n",
      "Test F1 Score: 0.8837\n",
      "Epoch: 400 | Train loss: 0.19605572521686554 | Test loss: 0.2086145430803299\n",
      "Test Accuracy: 0.9211\n",
      "Test Precision: 0.9512\n",
      "Test Recall: 0.8478\n",
      "Test F1 Score: 0.8966\n",
      "Epoch: 500 | Train loss: 0.1783408671617508 | Test loss: 0.19401642680168152\n",
      "Test Accuracy: 0.9211\n",
      "Test Precision: 0.9512\n",
      "Test Recall: 0.8478\n",
      "Test F1 Score: 0.8966\n"
     ]
    }
   ],
   "source": [
    "epochs = 2000\n",
    "for epoch in range(epochs):\n",
    "    breast_cancer_nn.train()\n",
    "    pred = breast_cancer_nn(train_tensor_data)\n",
    "    loss = loss_bce(pred, train_tensor_results)\n",
    "    optimizer.zero_grad()\n",
    "    loss.backward()\n",
    "    optimizer.step()\n",
    "\n",
    "    breast_cancer_nn.eval()\n",
    "    with torch.inference_mode():\n",
    "        test_pred = breast_cancer_nn(test_tensor_data)\n",
    "        test_loss = loss_bce(test_pred, test_tensor_results)\n",
    "        if epoch % 100 == 0:\n",
    "            print(f\"Epoch: {epoch} | Train loss: {loss} | Test loss: {test_loss}\")\n",
    "            # Convert tensors to numpy arrays for metric computation\n",
    "            test_pred_np = ((test_pred > 0.5).float()).numpy()\n",
    "            test_labels_np = test_tensor_results.numpy()\n",
    "\n",
    "            # Calculate metrics\n",
    "            accuracy = accuracy_score(test_labels_np, test_pred_np)\n",
    "            precision = precision_score(test_labels_np, test_pred_np)\n",
    "            recall = recall_score(test_labels_np, test_pred_np)\n",
    "            f1 = f1_score(test_labels_np, test_pred_np)\n",
    "\n",
    "            print(f'Test Accuracy: {accuracy:.4f}')\n",
    "            print(f'Test Precision: {precision:.4f}')\n",
    "            print(f'Test Recall: {recall:.4f}')\n",
    "            print(f'Test F1 Score: {f1:.4f}')\n",
    "            if test_loss < 0.2:\n",
    "                break"
   ]
  },
  {
   "cell_type": "code",
   "execution_count": 169,
   "id": "59ddaef0-d254-47d5-931a-62bbc980ad71",
   "metadata": {
    "scrolled": true
   },
   "outputs": [
    {
     "data": {
      "text/plain": [
       "OrderedDict([('fc1.weight',\n",
       "              tensor([[ 0.0274,  0.1347,  0.1354,  0.0499, -0.1184, -0.0371, -0.0034,  0.1289,\n",
       "                        0.0496,  0.0845, -0.0568,  0.1593,  0.1096, -0.0311,  0.0845,  0.1250,\n",
       "                        0.0318, -0.0635,  0.0811,  0.1668,  0.1623,  0.1160,  0.0222, -0.1637,\n",
       "                        0.0850, -0.1623,  0.0117,  0.0889,  0.1621, -0.0146],\n",
       "                      [ 0.3296,  0.0187,  0.0461,  0.0505,  0.0314, -0.2509, -0.4381, -0.2413,\n",
       "                        0.0773,  0.2708,  0.3204,  0.0334,  0.2285, -0.0678,  0.1725, -0.3738,\n",
       "                       -0.4579, -0.2591,  0.2309, -0.0687,  0.3179,  0.0241,  0.1457,  0.0347,\n",
       "                       -0.1004, -0.4787, -0.5576, -0.3667,  0.0646,  0.0383],\n",
       "                      [ 0.1870, -0.1557,  0.1574,  0.1087,  0.1892, -0.3348, -0.3104, -0.4469,\n",
       "                        0.2519,  0.1639,  0.2451, -0.0016,  0.1715, -0.1271,  0.0015, -0.2245,\n",
       "                       -0.2504, -0.0195,  0.0518,  0.1558,  0.1244,  0.0412, -0.0068,  0.0309,\n",
       "                        0.1098, -0.5879, -0.5863, -0.4877,  0.1876, -0.1066],\n",
       "                      [-0.1031, -0.0618,  0.0443,  0.0399, -0.2749,  0.2921,  0.4880,  0.3682,\n",
       "                       -0.0051,  0.0290, -0.1421, -0.0790, -0.0842,  0.1291, -0.1988,  0.4080,\n",
       "                        0.3761,  0.0536, -0.2707, -0.0894,  0.0742, -0.1205, -0.0366,  0.0691,\n",
       "                       -0.0242,  0.5144,  0.4415,  0.3679, -0.1619,  0.1667],\n",
       "                      [-0.0321, -0.0267, -0.0248, -0.0100, -0.2866,  0.1710,  0.5099,  0.2492,\n",
       "                        0.0168, -0.0946,  0.0205,  0.0040, -0.1023,  0.0532, -0.1873,  0.4015,\n",
       "                        0.2239,  0.0828, -0.2357, -0.0848,  0.0497,  0.0148, -0.1667,  0.1566,\n",
       "                        0.0133,  0.3393,  0.5342,  0.3886, -0.0408,  0.0841],\n",
       "                      [-0.1140,  0.1332, -0.1550, -0.1410,  0.1422,  0.0027, -0.1243,  0.1055,\n",
       "                       -0.0755,  0.1446, -0.1281,  0.0640,  0.0112,  0.0585,  0.0272, -0.1246,\n",
       "                       -0.0709,  0.0696,  0.0817, -0.0664,  0.0124, -0.1200, -0.1225, -0.0072,\n",
       "                        0.1603, -0.0947, -0.0434,  0.1151,  0.1762,  0.0555],\n",
       "                      [ 0.1381,  0.1738, -0.1728, -0.0586, -0.1705,  0.0059,  0.1625,  0.0256,\n",
       "                        0.1098, -0.1231,  0.1233,  0.1272, -0.0298, -0.0566, -0.0956,  0.0885,\n",
       "                       -0.0890,  0.0939,  0.0308, -0.0115,  0.1023, -0.0046, -0.0017, -0.0761,\n",
       "                       -0.1258, -0.0370, -0.1295,  0.1249,  0.1612, -0.1166],\n",
       "                      [ 0.0974, -0.0845,  0.3264, -0.0670,  0.0987, -0.4495, -0.7160, -0.5045,\n",
       "                        0.3225,  0.2187,  0.3290,  0.1588, -0.0480,  0.0698,  0.1322, -0.3073,\n",
       "                       -0.5416, -0.1647,  0.1107, -0.1412,  0.3192, -0.1966,  0.1736,  0.1061,\n",
       "                        0.1579, -0.5501, -0.5869, -0.4959,  0.2193, -0.0403],\n",
       "                      [-0.2215, -0.1184, -0.0374,  0.1042, -0.3024,  0.3892,  0.4317,  0.3281,\n",
       "                       -0.1321, -0.0562, -0.1187,  0.0290,  0.0625, -0.1632, -0.0581,  0.2503,\n",
       "                        0.5206,  0.2395, -0.0367, -0.0220, -0.3176, -0.0460, -0.0621,  0.1240,\n",
       "                        0.1198,  0.3694,  0.7128,  0.3581, -0.1958,  0.0163],\n",
       "                      [ 0.1354,  0.1700, -0.0612, -0.1151, -0.1274,  0.0556, -0.0137,  0.1000,\n",
       "                       -0.0987,  0.0915, -0.0189,  0.0348, -0.1404, -0.0440,  0.1107,  0.0627,\n",
       "                       -0.0046, -0.1726, -0.0731, -0.1597, -0.1335, -0.0848,  0.0116, -0.1515,\n",
       "                       -0.1265, -0.1648,  0.1074,  0.0122,  0.1739,  0.0809]])),\n",
       "             ('fc1.bias',\n",
       "              tensor([ 0.0133,  0.3684,  0.3597, -0.2332, -0.3100,  0.1337,  0.0932,  0.1167,\n",
       "                      -0.2115,  0.1390])),\n",
       "             ('fc2.weight',\n",
       "              tensor([[-0.1586, -0.1287, -0.2038, -0.1782, -0.1701,  0.2454,  0.2513,  0.2368,\n",
       "                        0.1116,  0.1134],\n",
       "                      [ 0.2915, -0.1456, -0.2196,  0.1574,  0.3505, -0.2235, -0.2562, -0.0423,\n",
       "                        0.0451, -0.0551],\n",
       "                      [-0.0633, -0.1586, -0.3157, -0.1756, -0.0452,  0.1649, -0.0265, -0.0206,\n",
       "                        0.2010,  0.1434],\n",
       "                      [-0.0394,  0.3301,  0.1226,  0.2049,  0.1659, -0.0337, -0.1110,  0.3347,\n",
       "                       -0.0220,  0.1430],\n",
       "                      [-0.0643,  0.1982, -0.1133, -0.2818, -0.2167,  0.0454,  0.2878, -0.2631,\n",
       "                       -0.0556, -0.1075]])),\n",
       "             ('fc2.bias',\n",
       "              tensor([ 0.1701, -0.3319,  0.0708, -0.0169,  0.1095])),\n",
       "             ('output.weight',\n",
       "              tensor([[ 0.4122,  0.6228, -0.1367, -0.0868, -0.2276]])),\n",
       "             ('output.bias', tensor([-0.0358]))])"
      ]
     },
     "execution_count": 169,
     "metadata": {},
     "output_type": "execute_result"
    }
   ],
   "source": [
    "breast_cancer_nn.state_dict()"
   ]
  },
  {
   "cell_type": "code",
   "execution_count": 171,
   "id": "0ae2c31c-a41a-44a3-94cd-2ded9b8444ce",
   "metadata": {},
   "outputs": [
    {
     "ename": "RuntimeError",
     "evalue": "Parent directory models does not exist.",
     "output_type": "error",
     "traceback": [
      "\u001b[0;31m---------------------------------------------------------------------------\u001b[0m",
      "\u001b[0;31mRuntimeError\u001b[0m                              Traceback (most recent call last)",
      "Cell \u001b[0;32mIn[171], line 1\u001b[0m\n\u001b[0;32m----> 1\u001b[0m torch\u001b[38;5;241m.\u001b[39msave(obj\u001b[38;5;241m=\u001b[39mbreast_cancer_nn\u001b[38;5;241m.\u001b[39mstate_dict(), \u001b[38;5;66;03m# only saving the state_dict() only saves the models learned parameters\u001b[39;00m\n\u001b[1;32m      2\u001b[0m            f\u001b[38;5;241m=\u001b[39m\u001b[38;5;124m\"\u001b[39m\u001b[38;5;124mmodels/breast_cancer_nn.pth\u001b[39m\u001b[38;5;124m\"\u001b[39m)\n",
      "File \u001b[0;32m~/Workspace/lab/envs/lab/lib/python3.11/site-packages/torch/serialization.py:627\u001b[0m, in \u001b[0;36msave\u001b[0;34m(obj, f, pickle_module, pickle_protocol, _use_new_zipfile_serialization, _disable_byteorder_record)\u001b[0m\n\u001b[1;32m    624\u001b[0m _check_save_filelike(f)\n\u001b[1;32m    626\u001b[0m \u001b[38;5;28;01mif\u001b[39;00m _use_new_zipfile_serialization:\n\u001b[0;32m--> 627\u001b[0m     \u001b[38;5;28;01mwith\u001b[39;00m _open_zipfile_writer(f) \u001b[38;5;28;01mas\u001b[39;00m opened_zipfile:\n\u001b[1;32m    628\u001b[0m         _save(obj, opened_zipfile, pickle_module, pickle_protocol, _disable_byteorder_record)\n\u001b[1;32m    629\u001b[0m         \u001b[38;5;28;01mreturn\u001b[39;00m\n",
      "File \u001b[0;32m~/Workspace/lab/envs/lab/lib/python3.11/site-packages/torch/serialization.py:501\u001b[0m, in \u001b[0;36m_open_zipfile_writer\u001b[0;34m(name_or_buffer)\u001b[0m\n\u001b[1;32m    499\u001b[0m \u001b[38;5;28;01melse\u001b[39;00m:\n\u001b[1;32m    500\u001b[0m     container \u001b[38;5;241m=\u001b[39m _open_zipfile_writer_buffer\n\u001b[0;32m--> 501\u001b[0m \u001b[38;5;28;01mreturn\u001b[39;00m container(name_or_buffer)\n",
      "File \u001b[0;32m~/Workspace/lab/envs/lab/lib/python3.11/site-packages/torch/serialization.py:472\u001b[0m, in \u001b[0;36m_open_zipfile_writer_file.__init__\u001b[0;34m(self, name)\u001b[0m\n\u001b[1;32m    470\u001b[0m     \u001b[38;5;28msuper\u001b[39m()\u001b[38;5;241m.\u001b[39m\u001b[38;5;21m__init__\u001b[39m(torch\u001b[38;5;241m.\u001b[39m_C\u001b[38;5;241m.\u001b[39mPyTorchFileWriter(\u001b[38;5;28mself\u001b[39m\u001b[38;5;241m.\u001b[39mfile_stream))\n\u001b[1;32m    471\u001b[0m \u001b[38;5;28;01melse\u001b[39;00m:\n\u001b[0;32m--> 472\u001b[0m     \u001b[38;5;28msuper\u001b[39m()\u001b[38;5;241m.\u001b[39m\u001b[38;5;21m__init__\u001b[39m(torch\u001b[38;5;241m.\u001b[39m_C\u001b[38;5;241m.\u001b[39mPyTorchFileWriter(\u001b[38;5;28mself\u001b[39m\u001b[38;5;241m.\u001b[39mname))\n",
      "\u001b[0;31mRuntimeError\u001b[0m: Parent directory models does not exist."
     ]
    }
   ],
   "source": [
    "torch.save(obj=breast_cancer_nn.state_dict(), # only saving the state_dict() only saves the models learned parameters\n",
    "           f=\"models/breast_cancer_nn.pth\") "
   ]
  },
  {
   "cell_type": "code",
   "execution_count": null,
   "id": "3e63db8e-19f4-42e8-9242-57b0d2608715",
   "metadata": {},
   "outputs": [],
   "source": []
  }
 ],
 "metadata": {
  "kernelspec": {
   "display_name": "Python [conda env:lab-lab]",
   "language": "python",
   "name": "conda-env-lab-lab-py"
  },
  "language_info": {
   "codemirror_mode": {
    "name": "ipython",
    "version": 3
   },
   "file_extension": ".py",
   "mimetype": "text/x-python",
   "name": "python",
   "nbconvert_exporter": "python",
   "pygments_lexer": "ipython3",
   "version": "3.11.9"
  }
 },
 "nbformat": 4,
 "nbformat_minor": 5
}
