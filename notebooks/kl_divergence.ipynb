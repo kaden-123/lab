{
 "cells": [
  {
   "cell_type": "code",
   "execution_count": 1,
   "id": "df7e950c-b331-4dcc-a2ad-cf9b090d27b3",
   "metadata": {},
   "outputs": [],
   "source": [
    "import math\n",
    "import numpy as np\n",
    "import random\n",
    "import sys\n",
    "from tqdm.auto import tqdm"
   ]
  },
  {
   "cell_type": "code",
   "execution_count": 4,
   "id": "a4f30b8c-a47a-4e27-b1e7-53df14b2622e",
   "metadata": {},
   "outputs": [],
   "source": [
    "sys.path.append('/home/kadenw/Workspace/lab/lab')"
   ]
  },
  {
   "cell_type": "code",
   "execution_count": 5,
   "id": "1228d469-28cf-4a23-822a-71e1dc5b601c",
   "metadata": {},
   "outputs": [],
   "source": [
    "from lab.loss import (\n",
    "    cross_entropy,\n",
    "    entropy,\n",
    "    kl_divergence,\n",
    "    rand_probs,\n",
    ")"
   ]
  },
  {
   "cell_type": "code",
   "execution_count": 115,
   "id": "2cf2b3a6-2576-478d-ab4f-a76f5b9db88d",
   "metadata": {},
   "outputs": [],
   "source": [
    "def find_similar(list_a, list_b):\n",
    "\n",
    "    #40 seconds for for loop\n",
    "    list_a = np.array(list_a)\n",
    "    list_b = np.array(list_b)\n",
    "    index = [0, 0]\n",
    "    global_min = float('inf')\n",
    "    \n",
    "    for i in tqdm(range(len(list_a))):\n",
    "        P = list_a[i]\n",
    "        kl_values = np.sum(P * np.log(P/np.maximum(list_b, 1e-10)), axis = 1)\n",
    "        min_index = np.argmin(kl_values)\n",
    "        if (kl_values[min_index] < global_min):\n",
    "            global_min = kl_values[min_index]\n",
    "            index = [i, min_index]\n",
    "            \n",
    "    print(global_min)        \n",
    "    print(list_a[index[0]])\n",
    "    print(list_b[index[1]])\n",
    "    "
   ]
  },
  {
   "cell_type": "code",
   "execution_count": null,
   "id": "b9b13dfd-ed5a-4598-ad78-f9b44d716f95",
   "metadata": {},
   "outputs": [],
   "source": [
    "list_a = [rand_probs(5)]\n",
    "list_b = [rand_probs(5)]\n",
    "for i in range(10000):\n",
    "    list_a.append(rand_probs(5))\n",
    "    list_b.append(rand_probs(5))\n",
    "    "
   ]
  },
  {
   "cell_type": "code",
   "execution_count": null,
   "id": "b75e60ab-fbf2-40e1-9b30-9082f80ddbf6",
   "metadata": {},
   "outputs": [],
   "source": []
  }
 ],
 "metadata": {
  "kernelspec": {
   "display_name": "Python [conda env:lab-lab]",
   "language": "python",
   "name": "conda-env-lab-lab-py"
  },
  "language_info": {
   "codemirror_mode": {
    "name": "ipython",
    "version": 3
   },
   "file_extension": ".py",
   "mimetype": "text/x-python",
   "name": "python",
   "nbconvert_exporter": "python",
   "pygments_lexer": "ipython3",
   "version": "3.11.9"
  }
 },
 "nbformat": 4,
 "nbformat_minor": 5
}
