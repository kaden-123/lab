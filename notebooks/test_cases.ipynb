{
 "cells": [
  {
   "cell_type": "code",
   "execution_count": 1,
   "id": "d4d66c53-e1b3-48bd-9932-07e23b0c7ec2",
   "metadata": {},
   "outputs": [],
   "source": [
    "import unittest\n",
    "import sys\n",
    "\n",
    "sys.path.append('/home/kadenw/Workspace/lab/')\n",
    "from lab.loss import (\n",
    "    cross_entropy,\n",
    "    entropy,\n",
    "    kl_divergence,\n",
    "    rand_probs,\n",
    ")"
   ]
  },
  {
   "cell_type": "code",
   "execution_count": 2,
   "id": "28de1d52-5765-4fc7-a7c5-186615d864fc",
   "metadata": {},
   "outputs": [],
   "source": [
    "class TestRand_Probs(unittest.TestCase):\n",
    "\n",
    "    def test_zero_possbilities(self):\n",
    "        with self.assertRaises(AssertionError) as context:\n",
    "            rand_probs(0)\n",
    "        self.assertEqual(str(context.exception), \"n should be above 0\")\n",
    "    \n",
    "    def test_1_possibility(self):\n",
    "        self.assertAlmostEqual(sum(rand_probs(1)), 1)\n",
    "\n",
    "    def test_5_possibilities(self):\n",
    "        self.assertAlmostEqual(sum(rand_probs(5)), 1)\n",
    "        \n",
    "    def test_1000_possibilities(self):\n",
    "        self.assertAlmostEqual(sum(rand_probs(1000)), 1)\n",
    "\n",
    "    def test_prob_below_one(self):\n",
    "        for i in (rand_probs(5)):\n",
    "            self.assertTrue(i <= 1)\n",
    "\n",
    "    def test_prob_above_0(self):\n",
    "        for i in (rand_probs(5)):\n",
    "            self.assertTrue(i > 0)"
   ]
  },
  {
   "cell_type": "code",
   "execution_count": 5,
   "id": "59fb7475-bb9d-483f-b1be-4b3abb690977",
   "metadata": {},
   "outputs": [],
   "source": [
    "class Test_KL_Divergence(unittest.TestCase):\n",
    "\n",
    "    def test_different_lengths(self):\n",
    "        with self.assertRaises(ValueError) as context:\n",
    "            kl_divergence([1],[0.1, 0.9])\n",
    "        self.assertEqual(str(context.exception), \"Distrubitions must have same # of probabilities\")\n",
    "\n",
    "    def test_identical_distrubutions(self):\n",
    "        self.assertAlmostEqual(kl_divergence([0.4, 0.1, 0.5], [0.4, 0.1, 0.5]), 0) \n",
    "\n",
    "    def test_unidentical_distrubutions(self):\n",
    "        self.assertAlmostEqual(kl_divergence([0.5, 0.5], [0.6, 0.4]), 0.0294468445268)\n",
    "\n",
    "    def test_prob_with_zero(self):\n",
    "        self.assertAlmostEqual(kl_divergence([1, 0], [0,1]), 33.21928094555)"
   ]
  },
  {
   "cell_type": "code",
   "execution_count": 15,
   "id": "0cf46176-9423-4727-8a71-efc987bf4bfe",
   "metadata": {},
   "outputs": [],
   "source": [
    "class Test_Cross_Entropy(unittest.TestCase):\n",
    "\n",
    "    def test_different_lengths(self):\n",
    "        with self.assertRaises(ValueError) as context:\n",
    "            cross_entropy([1], [0.1, 0.9])\n",
    "        self.assertEqual(str(context.exception), \"Distrubitions must have same # of probabilities\")\n",
    "\n",
    "    def test_prob_with_zero(self):\n",
    "        self.assertAlmostEqual(cross_entropy([1, 0], [0, 1]), 33.2192809489)\n",
    "\n",
    "    def test_unidentical_distrubutions(self):\n",
    "        self.assertAlmostEqual(cross_entropy([0.4, 0.6], [0.2, 0.8]), 1.12192809489)"
   ]
  },
  {
   "cell_type": "code",
   "execution_count": 19,
   "id": "efa448a5-89ea-4626-a3e8-d1adcb06e4f3",
   "metadata": {},
   "outputs": [],
   "source": [
    "class Test_Entropy(unittest.TestCase):\n",
    "\n",
    "    def test_0_probabilities(self):\n",
    "        self.assertAlmostEqual(entropy([]), 0)\n",
    "        \n",
    "    def test_1_probability(self):\n",
    "        self.assertAlmostEqual(entropy([1]), 0)\n",
    "    \n",
    "    def test_known_entropy(self):\n",
    "        self.assertAlmostEqual(entropy([0.1, 0.6, 0.3]), 1.29546184424)\n",
    "\n",
    "    def test_uniform_probabilities(self):\n",
    "        self.assertAlmostEqual(entropy([0.25, 0.25, 0.25, 0.25]), 2) \n",
    "        \n",
    "        "
   ]
  },
  {
   "cell_type": "code",
   "execution_count": 20,
   "id": "fcb1a447-4858-4085-bcf3-2ad64c83b1ab",
   "metadata": {},
   "outputs": [
    {
     "name": "stderr",
     "output_type": "stream",
     "text": [
      ".................\n",
      "----------------------------------------------------------------------\n",
      "Ran 17 tests in 0.009s\n",
      "\n",
      "OK\n"
     ]
    }
   ],
   "source": [
    "if __name__ == '__main__':\n",
    "    unittest.main(argv=['first-arg-is-ignored'], exit=False)\n"
   ]
  },
  {
   "cell_type": "code",
   "execution_count": null,
   "id": "92ca1035-7ab4-4dd0-b249-0e528e48226a",
   "metadata": {},
   "outputs": [],
   "source": []
  }
 ],
 "metadata": {
  "kernelspec": {
   "display_name": "Python [conda env:lab-lab]",
   "language": "python",
   "name": "conda-env-lab-lab-py"
  },
  "language_info": {
   "codemirror_mode": {
    "name": "ipython",
    "version": 3
   },
   "file_extension": ".py",
   "mimetype": "text/x-python",
   "name": "python",
   "nbconvert_exporter": "python",
   "pygments_lexer": "ipython3",
   "version": "3.11.9"
  }
 },
 "nbformat": 4,
 "nbformat_minor": 5
}
