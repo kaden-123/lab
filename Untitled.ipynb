{
 "cells": [
  {
   "cell_type": "code",
   "execution_count": null,
   "id": "493d6daa-b9ee-412e-8b6b-f0fc0c8ac199",
   "metadata": {},
   "outputs": [],
   "source": [
    "import random\n",
    "import math\n",
    "import sys\n",
    "sys.path.append()\n",
    "\n",
    "#returns n probabilities that sum up to 1\n",
    "def rand_probs(n):\n",
    "    cuts = sorted(random.random() for _ in range(n-1))\n",
    "    return [b-a for a, b in zip([0]+cuts, cuts+[1])]\n",
    "\n",
    "#calculates entropy from a given probability list\n",
    "def entropy(prob_list):\n",
    "    entropy = 0\n",
    "    for i in prob_list:\n",
    "        if(i > 0):\n",
    "            entropy -= i * math.log(i, 2)\n",
    "    return entropy\n",
    "\n",
    "#calculates cross entropy given true distrubution(P) vs predicted distrubution(Q)\n",
    "def cross_entropy(P, Q):\n",
    "    \n",
    "    if len(Q) != len(P):\n",
    "        raise ValueError(\"Distrubitions must have same # of probabilities\")\n",
    "        \n",
    "    Q = [max(q, 1^-10) for q in Q]\n",
    "    return -sum( p * math.log(q, 2) for p, q in zip(P, Q))\n",
    "    \n",
    "#calculates KL divergence given P and Q\n",
    "def kl_divergence(P, Q):\n",
    "    \n",
    "    if len(Q) != len(P):\n",
    "        raise ValueError(\"Distrubitions must have same # of probabilities\")\n",
    "        \n",
    "    Q = [max(q, 1^-10) for q in Q]\n",
    "    P = [max(p, 1^-10) for p in P]\n",
    "\n",
    "    return sum(p * math.log((p/q),2) for p, q in zip(P, Q))"
   ]
  }
 ],
 "metadata": {
  "kernelspec": {
   "display_name": "Python [conda env:lab-lab]",
   "language": "python",
   "name": "conda-env-lab-lab-py"
  },
  "language_info": {
   "codemirror_mode": {
    "name": "ipython",
    "version": 3
   },
   "file_extension": ".py",
   "mimetype": "text/x-python",
   "name": "python",
   "nbconvert_exporter": "python",
   "pygments_lexer": "ipython3",
   "version": "3.11.9"
  }
 },
 "nbformat": 4,
 "nbformat_minor": 5
}
